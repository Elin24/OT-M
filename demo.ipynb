{
 "cells": [
  {
   "cell_type": "code",
   "execution_count": null,
   "metadata": {},
   "outputs": [],
   "source": [
    "import torch\n",
    "import torch.nn.functional as tF\n",
    "import numpy as np\n",
    "import os\n",
    "import matplotlib.pyplot as plt\n",
    "from PIL import Image\n",
    "\n",
    "from otm import den2seq"
   ]
  },
  {
   "cell_type": "code",
   "execution_count": null,
   "metadata": {},
   "outputs": [],
   "source": [
    "datadir = 'samples'\n",
    "imid = 'pseudo' # real"
   ]
  },
  {
   "cell_type": "code",
   "execution_count": null,
   "metadata": {},
   "outputs": [],
   "source": [
    "img = np.array(Image.open(os.path.join(datadir, f'{imid}.jpg')))\n",
    "imh, imw = img.shape[:2]\n",
    "print(img.shape)\n",
    "plt.imshow(img)"
   ]
  },
  {
   "cell_type": "code",
   "execution_count": null,
   "metadata": {},
   "outputs": [],
   "source": [
    "denmap = torch.load(os.path.join(datadir, f\"{imid}.pth\"))\n",
    "dh, dw = denmap.shape\n",
    "scale_factor = imw / dw\n",
    "print(img.shape, denmap.shape, scale_factor)\n",
    "\n",
    "plt.imshow(denmap.cpu(), cmap='jet')"
   ]
  },
  {
   "cell_type": "code",
   "execution_count": null,
   "metadata": {},
   "outputs": [],
   "source": [
    "# perform OT-M\n",
    "dot = den2seq(denmap, scale_factor, ot_scaling=0.75)\n",
    "\n",
    "dot_coord = dot.long().cpu()\n",
    "dotmap = torch.zeros((imh, imw))\n",
    "dotmap[dot_coord[:, 0], dot_coord[:, 1]] = 1\n",
    "dotmap = tF.conv2d(dotmap[None, None, ...], torch.ones((1, 1, 5, 5)), padding=2)[0, 0]\n",
    "\n",
    "plt.imshow(dotmap)"
   ]
  },
  {
   "cell_type": "code",
   "execution_count": null,
   "metadata": {},
   "outputs": [],
   "source": []
  }
 ],
 "metadata": {
  "kernelspec": {
   "display_name": "base",
   "language": "python",
   "name": "python3"
  },
  "language_info": {
   "codemirror_mode": {
    "name": "ipython",
    "version": 3
   },
   "file_extension": ".py",
   "mimetype": "text/x-python",
   "name": "python",
   "nbconvert_exporter": "python",
   "pygments_lexer": "ipython3",
   "version": "3.8.16"
  },
  "orig_nbformat": 4
 },
 "nbformat": 4,
 "nbformat_minor": 2
}
